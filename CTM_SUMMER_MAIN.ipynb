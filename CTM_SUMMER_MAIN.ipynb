{
  "nbformat": 4,
  "nbformat_minor": 0,
  "metadata": {
    "accelerator": "GPU",
    "colab": {
      "name": "CTM_SUMMER_MAIN.ipynb",
      "provenance": [],
      "include_colab_link": true
    },
    "kernelspec": {
      "display_name": "Python 3",
      "name": "python3"
    },
    "language_info": {
      "name": "python"
    }
  },
  "cells": [
    {
      "cell_type": "markdown",
      "metadata": {
        "id": "view-in-github",
        "colab_type": "text"
      },
      "source": [
        "<a href=\"https://colab.research.google.com/github/dafisilva/CTM_internship/blob/main/CTM_SUMMER_MAIN.ipynb\" target=\"_parent\"><img src=\"https://colab.research.google.com/assets/colab-badge.svg\" alt=\"Open In Colab\"/></a>"
      ]
    },
    {
      "cell_type": "code",
      "metadata": {
        "colab": {
          "base_uri": "https://localhost:8080/"
        },
        "id": "sMwUJFyOnJtP",
        "outputId": "5835b24d-797e-4dce-d684-f72aadc2a90a"
      },
      "source": [
        "from google.colab import drive\n",
        "drive.mount('/content/drive')"
      ],
      "execution_count": 1,
      "outputs": [
        {
          "output_type": "stream",
          "text": [
            "Mounted at /content/drive\n"
          ],
          "name": "stdout"
        }
      ]
    },
    {
      "cell_type": "markdown",
      "metadata": {
        "id": "p100BLPEn5GN"
      },
      "source": [
        "# **PRE - PROCESSING**"
      ]
    },
    {
      "cell_type": "code",
      "metadata": {
        "id": "kxXu01tvjjmQ"
      },
      "source": [
        "import os \n",
        "import numpy as np\n",
        "from sklearn.model_selection import StratifiedKFold\n",
        "import pickle\n",
        "from PIL import Image\n",
        "\n",
        "num_classes=4;\n",
        "divs=5;\n",
        "\n",
        "PATH=r'/content/drive/MyDrive/CTM_Dataset/Dataset'\n",
        "classes=['Negative for Intraepithelial malignancy','Low squamous intra-epithelial lesion', 'High squamous intra-epithelial lesion',  'Squamous cell carcinoma']\n",
        "directories=os.listdir(PATH)\n",
        "X=[]\n",
        "Y=[]\n",
        "\n",
        "for folder in directories:\n",
        "  \n",
        "  sub_path=os.path.join(PATH,folder)\n",
        "  imgs_name=[x for x in os.listdir(sub_path) if x.endswith('.jpg')]\n",
        "  imgs=[os.path.join(sub_path,x) for x in imgs_name]\n",
        "  labels=[classes.index(folder)for i in range(len(imgs_name))]\n",
        "  X+=imgs;\n",
        "  Y+=labels;\n",
        "\n",
        "X,Y=np.array(X),np.array(Y)\n",
        "\n",
        "#without test set:\n",
        "skf=StratifiedKFold(n_splits=divs,shuffle=True,random_state=1234)\n",
        "data_dict=[{'train':(X[tr],Y[tr]),'test':(X[ts],Y[ts])} for tr,ts in skf.split(X,Y)]\n",
        "\n",
        "#with test set:\n",
        "skf2=StratifiedKFold(n_splits=2,shuffle=True,random_state=1234)\n",
        "new_data_dict=[]\n",
        "for x in data_dict:\n",
        "  tr,tv = skf2.split(x['train'][0],x['train'][1])\n",
        "  new_data_dict.append({'train':(x['train'][0][tr[0]],x['train'][1][tr[0]]),'val':(x['train'][0][tv[0]],x['train'][1][tv[0]]),'test':x['test']})\n",
        "\n",
        "\n",
        "    \n",
        "\n",
        "pickle.dump(new_data_dict,open(r'/content/drive/MyDrive/CTM_Dataset/Pickle/data.p','wb'))"
      ],
      "execution_count": null,
      "outputs": []
    },
    {
      "cell_type": "code",
      "metadata": {
        "colab": {
          "base_uri": "https://localhost:8080/"
        },
        "id": "kTUJczC-sNto",
        "outputId": "e752d6ab-91d6-4bdc-b1cf-46fc725e4c66"
      },
      "source": [
        "len(new_data_dict[0]['test'][0])\n"
      ],
      "execution_count": null,
      "outputs": [
        {
          "output_type": "execute_result",
          "data": {
            "text/plain": [
              "193"
            ]
          },
          "metadata": {
            "tags": []
          },
          "execution_count": 10
        }
      ]
    },
    {
      "cell_type": "markdown",
      "metadata": {
        "id": "ty9KZL5moQ_4"
      },
      "source": [
        "# **CUSTOM DATASET**"
      ]
    },
    {
      "cell_type": "code",
      "metadata": {
        "colab": {
          "base_uri": "https://localhost:8080/"
        },
        "id": "AYH3gc-ToQbv",
        "outputId": "631e1642-9a20-45f7-c720-88edeef63906"
      },
      "source": [
        "%%writefile customdataset.py\n",
        "from PIL import Image\n",
        "from torch.utils.data import Dataset\n",
        "import torchvision.transforms as transforms\n",
        "import pickle\n",
        "\n",
        "\n",
        "class CustomDataset(Dataset):\n",
        "    def __init__(self,pickle_root,fold,stage,transform):\n",
        "        \n",
        "        self.transform=transform;\n",
        "        self.X,self.Y=pickle.load(open(pickle_root,\"rb\"))[fold][stage]\n",
        "    \n",
        "    def __len__(self):\n",
        "        return len(self.X)\n",
        "    \n",
        "    def __getitem__(self, idx):\n",
        "        \n",
        "        image=Image.open(self.X[idx])\n",
        "        label=self.Y[idx]\n",
        "        \n",
        "        if self.transform:\n",
        "            image=self.transform(image);\n",
        "        return image,label\n",
        "    \n",
        "      \n",
        "transform={'train':transforms.Compose(\n",
        "    [\n",
        "     \n",
        "     transforms.Resize((224,224)),\n",
        "     transforms.RandomAffine(180, (0, 0.1), (0.9, 1.1)),\n",
        "     transforms.RandomHorizontalFlip(),\n",
        "     transforms.RandomVerticalFlip(),\n",
        "     transforms.ColorJitter(saturation=(0.5, 2.0)),\n",
        "     transforms.ToTensor(),\n",
        "     transforms.Normalize((0.485, 0.456, 0.406), (0.229, 0.224, 0.225))\n",
        "     ]),\n",
        "    'test':transforms.Compose(\n",
        "    [\n",
        "     \n",
        "     transforms.Resize((224,224)),\n",
        "     transforms.ToTensor(),\n",
        "     transforms.Normalize((0.485, 0.456, 0.406), (0.229, 0.224, 0.225))\n",
        "     ])}"
      ],
      "execution_count": 1,
      "outputs": [
        {
          "output_type": "stream",
          "text": [
            "Writing customdataset.py\n"
          ],
          "name": "stdout"
        }
      ]
    },
    {
      "cell_type": "markdown",
      "metadata": {
        "id": "Yktdy2znooTQ"
      },
      "source": [
        "# **NETWORK**"
      ]
    },
    {
      "cell_type": "code",
      "metadata": {
        "colab": {
          "base_uri": "https://localhost:8080/"
        },
        "id": "yFMbJ7gCoruD",
        "outputId": "7f9b647f-6758-4c61-ebcd-0086c07fa9ce"
      },
      "source": [
        "%%writefile neural_net.py\n",
        "import torch\n",
        "from torch import nn\n",
        "from torchvision import models\n",
        "\n",
        "cross=nn.BCEWithLogitsLoss()\n",
        "\n",
        "class Network(nn.Module):\n",
        "    def __init__(self,pt_model,K):\n",
        "        super().__init__()           #usar os métodos da nn.Module\n",
        "        model_ft=models.resnet18(pretrained=True)  #abrir o modelo pré-treinado\n",
        "        layers_list=list(model_ft.children())[:-1] # obter uma list com todas as layers do modelo pré-treinado, exceto a última.\n",
        "        model_ft=nn.Sequential(*layers_list)   # novo modelo atualizado sem a última layer\n",
        "        last_dim=torch.flatten(model_ft(torch.randn(1,3,224,224))).shape[0] # obter a dimensão da ultima layer, de forma a sabermos que valor usar para a linearização\n",
        "        print(last_dim)\n",
        "        self.model=nn.Sequential(\n",
        "            model_ft,\n",
        "            nn.Flatten(),                    #reshape input para tensor 1-D\n",
        "            nn.Dropout(0.2),                 #\"zerar\" de forma aleatória alguns elementos do tensor, com probabilidade ainda por ser definida (testar)\n",
        "            nn.Linear(last_dim,512),\n",
        "            nn.ReLU(),\n",
        "            nn.Linear(512,256),\n",
        "            nn.ReLU(),\n",
        "            nn.Linear(256,4)\n",
        "            )\n",
        "    def forward(self,x):\n",
        "        return self.model(x)\n",
        "    \n",
        "    def loss(self,pred,gtruth):\n",
        "        \n",
        "        return cross(pred,gtruth)\n",
        "\n",
        "    def soft(self,out):\n",
        "        return nn.functional.softmax(out,dim=1)\n",
        "    def pred(self,pred):\n",
        "        return torch.max(pred,1)\n",
        "        \n",
        "class Ordinal_Encoder(Network):\n",
        "  def __init__(self, pretrained_model, K):\n",
        "        super().__init__(pretrained_model, K-1)\n",
        "        self.K = K\n",
        "  def loss_ord(self, Yhat, Y):\n",
        "        KK = torch.arange(4, device=torch.device('cuda' if torch.cuda.is_available() else 'cpu')).expand(Y.shape[0], -1)\n",
        "        YY = (Y[:, None] > KK).float()\n",
        "        return cross(Yhat, YY)\n",
        "  def to_proba(self, Yhat):\n",
        "        Phat = torch.sigmoid(Yhat)\n",
        "        Phat = torch.cat((1-Phat[:, :1], Phat[:, :-1] - Phat[:, 1:], Phat[:, -1:]), 1)\n",
        "        return torch.clamp(Phat, 0, 1)\n"
      ],
      "execution_count": 3,
      "outputs": [
        {
          "output_type": "stream",
          "text": [
            "Writing neural_net.py\n"
          ],
          "name": "stdout"
        }
      ]
    },
    {
      "cell_type": "markdown",
      "metadata": {
        "id": "1wkbE9AHov8k"
      },
      "source": [
        "# **MODEL TRAINING**"
      ]
    },
    {
      "cell_type": "code",
      "metadata": {
        "colab": {
          "base_uri": "https://localhost:8080/"
        },
        "id": "hQhNzaV7ozMi",
        "outputId": "c6f3f95c-df5e-4d6a-d507-57bc8402a1bf"
      },
      "source": [
        "%%writefile train.py\n",
        "import argparse\n",
        "from customdataset import CustomDataset,transform\n",
        "from neural_net import Network,Ordinal_Encoder\n",
        "from sklearn import metrics\n",
        "from torch.utils.data import DataLoader\n",
        "import torch\n",
        "import os \n",
        "import numpy as np \n",
        "import copy\n",
        "from tqdm import tqdm\n",
        "\n",
        "parser=argparse.ArgumentParser()\n",
        "\n",
        "parser.add_argument('model',choices=['mobilenet_v3_large','vgg16','resnext50_32x4d','resnet18'],default='resnet18')\n",
        "parser.add_argument('fold',default=3)\n",
        "parser.add_argument('epochs',type=int,default=100)\n",
        "parser.add_argument('batchsize',type=int,default=32)\n",
        "parser.add_argument('lr',type=float,default=1e-4)\n",
        "parser.add_argument('path',default=None)\n",
        "args=parser.parse_args()\n",
        "\n",
        "root=r'/content/drive/MyDrive/CTM_Dataset/Pickle/data.p'\n",
        "\n",
        "device=torch.device('cuda' if torch.cuda.is_available() else 'cpu')\n",
        "\n",
        "trainset=CustomDataset(root,int(args.fold),'train',transform['train'])\n",
        "validset=CustomDataset(root,int(args.fold),'val',transform['test'])\n",
        "testset=CustomDataset(root,int(args.fold),'test',transform['test'])\n",
        "\n",
        "\n",
        "def train(trainloader,path,validloader=None,epochs=10):\n",
        "    tr_acc=[]\n",
        "    #tr_bal_acc=[]\n",
        "    #tr_f1=[]\n",
        "    tr_loss=[]\n",
        "    tr_mae=[]\n",
        "    tr_recall=[];\n",
        "    tr_precision=[];\n",
        "    \n",
        "    tval_acc=[]\n",
        "    #tval_bal_acc=[]\n",
        "    #tval_f1=[]\n",
        "    tval_loss=[]\n",
        "    val_mae=[]\n",
        "    val_recall=[]\n",
        "    val_precision=[]\n",
        "    \n",
        "    best_acc=0\n",
        "    \n",
        "    for epoch in range(epochs):\n",
        "        \n",
        "        print('EPOCH NUMBER %d OF %d'%(epoch,epochs))\n",
        "        #bal_acc=0;\n",
        "        avg_acc=0;\n",
        "        avg_loss=0;\n",
        "        #f1_score=0;\n",
        "        mae=0;\n",
        "        recall=0;\n",
        "        precision=0;\n",
        "        model.train()\n",
        "        for inputs,labels in tqdm(trainloader):\n",
        "            \n",
        "            \n",
        "            inputs,labels=inputs.to(device),labels.to(device,torch.int64)   \n",
        "            optim.zero_grad()\n",
        "            outputs=model(inputs)\n",
        "            print(outputs)\n",
        "            loss=model.loss_ord(outputs,labels)\n",
        "            #outputs=model.soft(outputs)\n",
        "            loss.backward()\n",
        "            optim.step()\n",
        "            c_pred=model.pred(outputs)[1]\n",
        "            avg_acc+=(labels.cpu()==c_pred.cpu()).float().mean()/len(trainloader)\n",
        "            avg_loss+=loss.cpu()/len(trainloader)\n",
        "            #bal_acc+=metrics.balanced_accuracy_score(labels.cpu(),c_pred.cpu())/len(trainloader)\n",
        "            mae+=metrics.mean_absolute_error(labels.cpu(), c_pred.cpu())/len(trainloader)\n",
        "            recall+=metrics.recall_score(labels.cpu(), c_pred.cpu(),average='weighted',zero_division=1)/len(trainloader)\n",
        "            precision+=metrics.precision_score(labels.cpu(), c_pred.cpu(),average='weighted',zero_division=1)/len(trainloader)\n",
        "            #f1_score+=metrics.f1_score(labels.cpu(),c_pred.cpu(),average=None)/len(trainloader)\n",
        "        \n",
        "        \n",
        "        print('TRAINING RESULTS:\\nACCURACY: %.2f LOSS: %.3f MAE: %.2f RECALL: %.2f PRECISION: %.2f'%(avg_acc,avg_loss,mae,recall,precision))\n",
        "        \n",
        "        tr_acc+=[avg_acc]\n",
        "        #tr_bal_acc+=[bal_acc]\n",
        "        #tr_f1+=[f1_score]\n",
        "        tr_loss+=[avg_loss.detach().numpy()]\n",
        "        tr_mae+=[mae]\n",
        "        tr_recall+=[recall]\n",
        "        tr_precision+=[precision]\n",
        "        \n",
        "        \n",
        "        \n",
        "        \n",
        "        if validloader is not None:\n",
        "            \n",
        "            \n",
        "            val_acc,val_loss,mae,recall,precision=test(validloader,True)\n",
        "            tval_acc+=[val_acc]\n",
        "            #tval_bal_acc+=[val_bal_acc]\n",
        "            val_mae+=[mae]\n",
        "            #tval_f1+=[val_f1]\n",
        "            tval_loss+=[val_loss]\n",
        "            val_recall+=[recall]\n",
        "            val_precision+=[precision]\n",
        "            if val_acc>best_acc:\n",
        "                best_acc=val_acc;\n",
        "                best_model=copy.deepcopy(model.state_dict())\n",
        "    np.savez(os.path.join(path,'training.npz'),tr_acc=tr_acc,tr_loss=tr_loss,mae=mae,recall=recall,precision=precision)\n",
        "    if validloader is not None:       \n",
        "        np.savez(os.path.join(path,'validation.npz'),tval_acc=tval_acc,tval_loss=tval_loss,mae=mae,recall=recall,precision=precision)\n",
        "    model.load_state_dict(best_model)\n",
        "    torch.save(model.state_dict(),os.path.join(path,'model.pth'))\n",
        "\n",
        "def test(testloader,val=False):\n",
        "   with torch.no_grad():\n",
        "       model.eval()\n",
        "       app_label=[]\n",
        "       app_pred=[]\n",
        "       avg_acc=0;\n",
        "       avg_loss=0;\n",
        "       #bal_acc=0\n",
        "       mae=0\n",
        "       recall=0\n",
        "       precision=0\n",
        "       #f1_score=0;\n",
        "       for inputs,labels in tqdm(testloader):\n",
        "           inputs,labels=inputs.to(device),labels.to(device,torch.int64)\n",
        "           outputs=model(inputs)\n",
        "           \n",
        "           #outputs=model.soft(outputs)\n",
        "           loss=model.loss_ord(outputs,labels)       \n",
        "           c_pred=model.pred(outputs)[1]\n",
        "           avg_acc+=(labels.cpu()==c_pred.cpu()).float().mean()/len(testloader)\n",
        "           avg_loss+=loss.cpu()/len(testloader)\n",
        "           app_label+=labels.cpu()\n",
        "           app_pred+=c_pred.cpu()\n",
        "           \n",
        "           #bal_acc+=metrics.balanced_accuracy_score(labels.cpu(),c_pred.cpu())/len(testloader)\n",
        "           mae+=metrics.mean_absolute_error(labels.cpu(), c_pred.cpu())/len(testloader)\n",
        "           recall+=metrics.recall_score(labels.cpu(), c_pred.cpu(),average='weighted',zero_division=1)/len(testloader)\n",
        "           precision+=metrics.precision_score(labels.cpu(), c_pred.cpu(),average='weighted',zero_division=1)/len(testloader)\n",
        "           #f1_score+=metrics.f1_score(labels.cpu(),c_pred.cpu())/len(testloader)\n",
        "       \n",
        "       print('TESTING RESULTS:\\nACCURACY: %.2f  LOSS: %.3f MAE: %.2f RECALL: %.2f PRECISION: %.2f'%(avg_acc,avg_loss,mae,recall,precision))           \n",
        "       print('\\nCONFUSION MATRIX:')\n",
        "       print(metrics.confusion_matrix(app_label,app_pred))\n",
        "       if val:\n",
        "           return avg_acc,avg_loss,mae,recall,precision \n",
        "             \n",
        "if __name__=='__main__':\n",
        "\n",
        "    trainloader,validloader=DataLoader(trainset,args.batchsize,shuffle=True,num_workers=2),DataLoader(validset,args.batchsize,shuffle=False,num_workers=2)   \n",
        "    #model=Network(args.model)\n",
        "    model=Ordinal_Encoder(args.model,4)\n",
        "    model=model.to(device)  \n",
        "    optim=torch.optim.Adam(model.parameters(),args.lr)\n",
        "    path=os.path.join(r'/content/drive/MyDrive/CTM_Dataset/Results',args.path)\n",
        "    os.mkdir(path)\n",
        "    train(trainloader,path,validloader,args.epochs)\n",
        "\n",
        "\n",
        "    #testloader=DataLoader(testset,args.batchsize,shuffle=False,num_workers=2) \n",
        "    #model=Network(args.model)\n",
        "    #ordinal_enc=Ordinal_Encoder(model,4)\n",
        "    #path='/content/drive/MyDrive/CTM_Dataset/Results/resnet18_100e_64b_lr4_no_aug_f'\n",
        "    #for i in range(5):\n",
        "    #  new_path=path+str(i)\n",
        "    #  model.load_state_dict(torch.load(os.path.join(new_path,'model.pth')))\n",
        "    #  model=model.to(device)\n",
        "    #  model.eval()\n",
        "    #  print(model.parameters())\n",
        "    #  avg_acc,avg_loss,mae,recall,precision=test(testloader,True)\n",
        "    #  np.savez(os.path.join(new_path,'testing.npz'),avg_acc=avg_acc,avg_loss=avg_loss,mae=mae,recall=recall,precision=precision)"
      ],
      "execution_count": 1,
      "outputs": [
        {
          "output_type": "stream",
          "text": [
            "Writing train.py\n"
          ],
          "name": "stdout"
        }
      ]
    },
    {
      "cell_type": "markdown",
      "metadata": {
        "id": "O5WTLR6-pTdY"
      },
      "source": [
        "# **POWERSHELL SIMULATOR**"
      ]
    },
    {
      "cell_type": "code",
      "metadata": {
        "id": "_I_RQV6cpZg3"
      },
      "source": [
        "!python train.py resnet18 0 100 64 1e-4 'resnet18_100e_64b_lr4_ord_enc_f0'\n",
        "#!python train.py resnet18 1 100 64 1e-4 'resnet18_100e_64b_lr4_ord_enc_f1'\n",
        "#!python train.py resnet18 2 100 64 1e-4 'resnet18_100e_64b_lr4_ord_enc_f2'\n",
        "#!python train.py resnet18 3 100 64 1e-4 'resnet18_100e_64b_lr4_ord_enc_f3'\n",
        "#!python train.py resnet18 4 100 64 1e-4 'resnet18_100e_64b_lr4_ord_enc_f4'"
      ],
      "execution_count": null,
      "outputs": []
    },
    {
      "cell_type": "markdown",
      "metadata": {
        "id": "AoSSr-pKSWzV"
      },
      "source": [
        "# **GRAPHS**"
      ]
    },
    {
      "cell_type": "code",
      "metadata": {
        "id": "-SpZ7skQSZLW",
        "outputId": "9d614f1e-61cc-459f-c5fc-1d98167c808e",
        "colab": {
          "base_uri": "https://localhost:8080/",
          "height": 609
        }
      },
      "source": [
        "import numpy as np\n",
        "import matplotlib.pyplot as plt\n",
        "\n",
        "training=np.load(r'/content/drive/MyDrive/CTM_Dataset/Results/resnet18_100e_64b_lr4__f0/training.npz')\n",
        "validation=np.load(r'/content/drive/MyDrive/CTM_Dataset/Results/resnet18_100e_64b_lr4_ord_enc_f0/validation.npz')\n",
        "\n",
        "tr_acc=training['tr_acc']\n",
        "mae=training['mae']\n",
        "tr_loss=training['tr_loss']\n",
        "\n",
        "val_acc=validation['tval_acc']\n",
        "val_mae=validation['mae']\n",
        "val_loss=validation['tval_loss']\n",
        "\n",
        "epochs=[i+1 for i in range(100)]\n",
        "\n",
        "plt.figure()\n",
        "\n",
        "\n",
        "plt.plot(epochs,tr_acc,'r',label='training')\n",
        "plt.plot(epochs,val_acc,'b',label='validation')\n",
        "plt.title('Accuracy vs epochs')\n",
        "plt.xlabel('Epochs')\n",
        "plt.ylabel('Accuracy')\n",
        "plt.legend()\n",
        "plt.ylim(0,1)\n",
        "plt.figure()\n",
        "\n",
        "#plt.plot(epochs,mae,'r',label='training')\n",
        "#plt.plot(epochs,val_mae,'b',label='validation')\n",
        "#plt.title('Mean Average Error vs epochs')\n",
        "#plt.xlabel('Epochs')\n",
        "#plt.ylabel('MAE')\n",
        "#plt.legend()\n",
        "#plt.ylim(0,1)\n",
        "\n",
        "plt.figure()\n",
        "plt.plot(epochs,tr_loss,'r',label='training')\n",
        "plt.plot(epochs,val_loss,'b',label='validation')\n",
        "plt.title('Loss vs epochs')\n",
        "plt.xlabel('Epochs')\n",
        "plt.ylabel('Loss')\n",
        "plt.legend()\n"
      ],
      "execution_count": 46,
      "outputs": [
        {
          "output_type": "execute_result",
          "data": {
            "text/plain": [
              "<matplotlib.legend.Legend at 0x7f547f9f5f10>"
            ]
          },
          "metadata": {
            "tags": []
          },
          "execution_count": 46
        },
        {
          "output_type": "display_data",
          "data": {
            "image/png": "[encoded data removed]",
            "text/plain": [
              "<Figure size 432x288 with 1 Axes>"
            ]
          },
          "metadata": {
            "tags": [],
            "needs_background": "light"
          }
        },
        {
          "output_type": "display_data",
          "data": {
            "text/plain": [
              "<Figure size 432x288 with 0 Axes>"
            ]
          },
          "metadata": {
            "tags": []
          }
        },
        {
          "output_type": "display_data",
          "data": {
            "image/png": "[encoded data removed]",
            "text/plain": [
              "<Figure size 432x288 with 1 Axes>"
            ]
          },
          "metadata": {
            "tags": [],
            "needs_background": "light"
          }
        }
      ]
    },
    {
      "cell_type": "code",
      "metadata": {
        "id": "UGIHyUqJt9Eg",
        "outputId": "508382e3-3fef-4f8a-f976-16bda6de3cee",
        "colab": {
          "base_uri": "https://localhost:8080/"
        }
      },
      "source": [
        "import numpy as np\n",
        "import matplotlib.pyplot as plt\n",
        "import os \n",
        "path='/content/drive/MyDrive/CTM_Dataset/Results/resnet18_100e_64b_lr4_no_aug_f'\n",
        "acc=[]\n",
        "mae=[]\n",
        "loss=[]\n",
        "recall=[]\n",
        "precision=[]\n",
        "for i in range(5):\n",
        "  new_path=path+str(i)\n",
        "  test=np.load(os.path.join(new_path,'testing.npz'))\n",
        "\n",
        "\n",
        "  acc+=[test['avg_acc']]\n",
        "  mae+=[test['mae']]\n",
        "  loss+=[test['avg_loss']]\n",
        "  recall+=[test['recall']]\n",
        "  precision+=[test['precision']]\n",
        "\n",
        "\n",
        "\n",
        "print(acc)\n",
        "print(mae)\n",
        "print(loss)\n",
        "print(recall)\n",
        "print(precision)"
      ],
      "execution_count": 10,
      "outputs": [
        {
          "output_type": "stream",
          "text": [
            "[array(1., dtype=float32), array(1., dtype=float32), array(1., dtype=float32), array(1., dtype=float32), array(0.97916675, dtype=float32)]\n",
            "[array(0.), array(0.), array(0.), array(0.), array(0.02083333)]\n",
            "[array(0.7459378, dtype=float32), array(0.7495118, dtype=float32), array(0.745107, dtype=float32), array(0.75130373, dtype=float32), array(0.76630396, dtype=float32)]\n",
            "[array(1.), array(1.), array(1.), array(1.), array(0.97916667)]\n",
            "[array(1.), array(1.), array(1.), array(1.), array(0.98185484)]\n"
          ],
          "name": "stdout"
        }
      ]
    },
    {
      "cell_type": "code",
      "metadata": {
        "id": "4n3nUPYq9gbZ",
        "outputId": "db6b3eb7-a372-4ae4-d864-2dd3b76e16f3",
        "colab": {
          "base_uri": "https://localhost:8080/"
        }
      },
      "source": [
        "acc"
      ],
      "execution_count": 11,
      "outputs": [
        {
          "output_type": "execute_result",
          "data": {
            "text/plain": [
              "[array(1., dtype=float32),\n",
              " array(1., dtype=float32),\n",
              " array(1., dtype=float32),\n",
              " array(1., dtype=float32),\n",
              " array(0.97916675, dtype=float32)]"
            ]
          },
          "metadata": {
            "tags": []
          },
          "execution_count": 11
        }
      ]
    },
    {
      "cell_type": "markdown",
      "metadata": {
        "id": "NuZ1pETn1u9c"
      },
      "source": [
        "# **CAPTUM**"
      ]
    },
    {
      "cell_type": "code",
      "metadata": {
        "id": "Vg88SLoM1uSg"
      },
      "source": [
        "!pip install captum\n",
        "from captum.attr import IntegratedGradients\n",
        "from captum.attr import Occlusion\n",
        "from captum.attr import NoiseTunnel\n",
        "from captum.attr import Saliency\n",
        "from captum.attr import DeepLift\n",
        "from captum.attr import NoiseTunnel\n",
        "from captum.attr import visualization as viz\n",
        "import argparse\n",
        "from customdataset import CustomDataset,transform\n",
        "from neural_net import Network\n",
        "from sklearn import metrics\n",
        "from torch.utils.data import DataLoader\n",
        "import torch\n",
        "import os \n",
        "import numpy as np \n",
        "import copy\n",
        "\n",
        "\n",
        "testloader=DataLoader(testset,args.batchsize,shuffle=False,num_workers=2) \n",
        "model=Network('resnet18')\n",
        "path='/content/drive/MyDrive/CTM_Dataset/Results/resnet18_100e_64b_lr4_new_Data_f0'\n",
        "   \n",
        "model.load_state_dict(torch.load(os.path.join(new_path,'model.pth')))\n",
        "model=model.to(device)\n",
        "model.eval()\n",
        "print(model.parameters())\n",
        "def attribute_image_features(algorithm, input, **kwargs):\n",
        "    model.zero_grad()\n",
        "    tensor_attributions = algorithm.attribute(input,\n",
        "                                              target=labels[ind],\n",
        "                                              **kwargs\n",
        "                                             )\n",
        "    \n",
        "    return tensor_attributions    \n",
        "for images,labels in (testloader):\n",
        "  \n",
        "  images, labels = images.to(device),labels.to(device)\n",
        "  outputs = model(images)\n",
        "  outputs=model.soft(outputs)\n",
        "  loss=model.loss(outputs,labels)       \n",
        "  c_pred=model.pred(outputs)[1]\n",
        "  for ind in range(64):\n",
        "      input=images[ind].unsqueeze(0)\n",
        "      input.requires_grad=True\n",
        "      saliency = Saliency(model)\n",
        "      grads = saliency.attribute(input, target=labels[ind].item(),abs=False)\n",
        "      grads = np.transpose(grads.squeeze().cpu().detach().numpy(), (1, 2, 0))\n",
        "      original_image = np.transpose((images[ind].cpu().detach().numpy() / 2) + 0.5, (1, 2, 0))\n",
        "      fig = viz.visualize_image_attr(grads, original_image, method=\"blended_heat_map\", sign=\"all\",\n",
        "                            show_colorbar=True, title=\"Overlayed Gradient Magnitudes\");"
      ],
      "execution_count": null,
      "outputs": []
    }
  ]
}